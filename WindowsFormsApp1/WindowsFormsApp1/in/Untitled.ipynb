{
 "cells": [
  {
   "cell_type": "code",
   "execution_count": 9,
   "metadata": {},
   "outputs": [],
   "source": [
    "import pandas as pd\n"
   ]
  },
  {
   "cell_type": "code",
   "execution_count": 24,
   "metadata": {},
   "outputs": [
    {
     "name": "stdout",
     "output_type": "stream",
     "text": [
      ". . . LECTOR . . .\n"
     ]
    },
    {
     "data": {
      "text/plain": [
       "0       168.28\n",
       "1       168.28\n",
       "2       168.28\n",
       "3       168.28\n",
       "4       168.28\n",
       "5       168.28\n",
       "6       168.28\n",
       "7       219.08\n",
       "8       219.08\n",
       "9       219.08\n",
       "10      219.08\n",
       "11      219.08\n",
       "12      219.08\n",
       "13      219.08\n",
       "14      219.08\n",
       "15      219.08\n",
       "16      273.05\n",
       "17      273.05\n",
       "18      273.05\n",
       "19      273.05\n",
       "20      273.05\n",
       "21      273.05\n",
       "22      273.05\n",
       "23      273.05\n",
       "24      273.05\n",
       "25      323.85\n",
       "26      323.85\n",
       "27      323.85\n",
       "28      323.85\n",
       "29      323.85\n",
       "        ...   \n",
       "102     914.00\n",
       "103     914.00\n",
       "104     914.00\n",
       "105     914.00\n",
       "106     914.00\n",
       "107     914.00\n",
       "108    1016.00\n",
       "109    1016.00\n",
       "110    1016.00\n",
       "111    1016.00\n",
       "112    1067.00\n",
       "113    1067.00\n",
       "114    1067.00\n",
       "115    1067.00\n",
       "116    1118.00\n",
       "117    1118.00\n",
       "118    1118.00\n",
       "119    1118.00\n",
       "120    1168.00\n",
       "121    1168.00\n",
       "122    1168.00\n",
       "123    1168.00\n",
       "124    1219.00\n",
       "125    1219.00\n",
       "126    1219.00\n",
       "127    1219.00\n",
       "128    1270.00\n",
       "129    1270.00\n",
       "130    1270.00\n",
       "131    1270.00\n",
       "Name: diam_mm, Length: 132, dtype: float64"
      ]
     },
     "execution_count": 24,
     "metadata": {},
     "output_type": "execute_result"
    }
   ],
   "source": [
    "#Abro csv\n",
    "#Leo por columnas el CSV y las guardo en un txt\n",
    "print(\". . . LECTOR . . .\")\n",
    "csv_file = \"../in/info_canios.csv\"\n",
    "df = pd.read_csv(csv_file, delimiter=\";\")\n",
    "saved_column = df #you can also use df['column_name']\n",
    "df[\"diam_mm\"]"
   ]
  },
  {
   "cell_type": "code",
   "execution_count": null,
   "metadata": {},
   "outputs": [],
   "source": []
  },
  {
   "cell_type": "code",
   "execution_count": null,
   "metadata": {},
   "outputs": [],
   "source": []
  }
 ],
 "metadata": {
  "kernelspec": {
   "display_name": "Python 3",
   "language": "python",
   "name": "python3"
  },
  "language_info": {
   "codemirror_mode": {
    "name": "ipython",
    "version": 3
   },
   "file_extension": ".py",
   "mimetype": "text/x-python",
   "name": "python",
   "nbconvert_exporter": "python",
   "pygments_lexer": "ipython3",
   "version": "3.6.4"
  }
 },
 "nbformat": 4,
 "nbformat_minor": 2
}
